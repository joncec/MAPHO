{
 "cells": [
  {
   "attachments": {},
   "cell_type": "markdown",
   "id": "generous-praise",
   "metadata": {},
   "source": [
    "## [10 Questions] QUIZ - Variables"
   ]
  },
  {
   "attachments": {},
   "cell_type": "markdown",
   "id": "unauthorized-penalty",
   "metadata": {},
   "source": [
    "#### General Syntax"
   ]
  },
  {
   "attachments": {},
   "cell_type": "markdown",
   "id": "boxed-width",
   "metadata": {},
   "source": [
    "**Q 1:**\n",
    "\n",
    "Fill in the blanks to print \"Hello World!\":\n",
    "\n",
    ".....(\"Hello World!\")"
   ]
  },
  {
   "cell_type": "code",
   "execution_count": null,
   "id": "activated-vietnamese",
   "metadata": {
    "tags": []
   },
   "outputs": [
    {
     "name": "stdout",
     "output_type": "stream",
     "text": [
      "Hello World!\n"
     ]
    }
   ],
   "source": [
    "# S 1:\n",
    "print(\"Hello World!\")"
   ]
  },
  {
   "attachments": {},
   "cell_type": "markdown",
   "id": "interesting-glucose",
   "metadata": {},
   "source": [
    "---"
   ]
  },
  {
   "attachments": {},
   "cell_type": "markdown",
   "id": "compliant-saver",
   "metadata": {},
   "source": [
    "**Q 2:**\n",
    "Fix the typo (coding error) below:\n",
    "\n",
    "<pre>\n",
    "print(\"Alice's Adventures')\n",
    "</pre>"
   ]
  },
  {
   "cell_type": "code",
   "execution_count": null,
   "id": "acquired-decision",
   "metadata": {
    "tags": []
   },
   "outputs": [
    {
     "name": "stdout",
     "output_type": "stream",
     "text": [
      "Alice's Adventures\n"
     ]
    }
   ],
   "source": [
    "# S 2:\n",
    "print(\"Alice's Adventures\")"
   ]
  },
  {
   "attachments": {},
   "cell_type": "markdown",
   "id": "industrial-dover",
   "metadata": {},
   "source": [
    "---"
   ]
  },
  {
   "attachments": {},
   "cell_type": "markdown",
   "id": "taken-ceiling",
   "metadata": {},
   "source": [
    "**Q 3:**\n",
    "\n",
    "Convert below line into a Comment Line.\n",
    "(One line comment)\n",
    "\n",
    "I am a Comment Line :)"
   ]
  },
  {
   "cell_type": "code",
   "execution_count": null,
   "id": "christian-inquiry",
   "metadata": {
    "tags": []
   },
   "outputs": [],
   "source": [
    "# S 3:\n",
    "# I am a Comment Line :)"
   ]
  },
  {
   "attachments": {},
   "cell_type": "markdown",
   "id": "afraid-scratch",
   "metadata": {},
   "source": [
    "---"
   ]
  },
  {
   "attachments": {},
   "cell_type": "markdown",
   "id": "outer-badge",
   "metadata": {},
   "source": [
    "**Q 4:**\n",
    "\n",
    "Convert below lines into comment line. (multi-line comment)\n",
    "\n",
    "<pre>\n",
    "This comment line\n",
    "Is multiple lines comment\n",
    "Not just one...\n",
    "</pre>"
   ]
  },
  {
   "cell_type": "code",
   "execution_count": null,
   "id": "bridal-legislature",
   "metadata": {
    "tags": []
   },
   "outputs": [
    {
     "data": {
      "text/plain": [
       "'\\nThis comment line\\nIs multiple lines comment\\nNot just one...\\n'"
      ]
     },
     "execution_count": 4,
     "metadata": {},
     "output_type": "execute_result"
    }
   ],
   "source": [
    "# S 4:\n",
    "'''\n",
    "This comment line\n",
    "Is multiple lines comment\n",
    "Not just one...\n",
    "'''"
   ]
  },
  {
   "attachments": {},
   "cell_type": "markdown",
   "id": "found-heater",
   "metadata": {},
   "source": [
    "---"
   ]
  },
  {
   "attachments": {},
   "cell_type": "markdown",
   "id": "martial-element",
   "metadata": {},
   "source": [
    "**Q 5:**\n",
    "\n",
    "Print the text below exactly as it is shown.\n",
    "\n",
    "<pre>\n",
    "Who in the world am I?\n",
    "    Ah, that's the great puzzle!\n",
    "        'Alice in Wonderland'\n",
    "</pre>"
   ]
  },
  {
   "cell_type": "code",
   "execution_count": null,
   "id": "constant-scotland",
   "metadata": {
    "tags": []
   },
   "outputs": [
    {
     "name": "stdout",
     "output_type": "stream",
     "text": [
      "\n",
      "Who in the world am I?\n",
      "    Ah, that's the great puzzle!\n",
      "        'Alice in Wonderland'\n"
     ]
    }
   ],
   "source": [
    "# S 5:\n",
    "print (\n",
    "\"\"\"\n",
    "Who in the world am I?\n",
    "    Ah, that's the great puzzle!\n",
    "        'Alice in Wonderland'\n",
    "\"\"\"\n",
    ")"
   ]
  },
  {
   "attachments": {},
   "cell_type": "markdown",
   "id": "coordinated-breach",
   "metadata": {},
   "source": [
    "---"
   ]
  },
  {
   "attachments": {},
   "cell_type": "markdown",
   "id": "legal-template",
   "metadata": {},
   "source": [
    "#### Python Variables"
   ]
  },
  {
   "attachments": {},
   "cell_type": "markdown",
   "id": "silver-astrology",
   "metadata": {},
   "source": [
    "**Q 1:**\n",
    "\n",
    "Create a variable named car_model and assign the value 'Volvo' to it."
   ]
  },
  {
   "cell_type": "code",
   "execution_count": 14,
   "id": "delayed-matrix",
   "metadata": {
    "tags": []
   },
   "outputs": [],
   "source": [
    "# S 1:\n",
    "\n",
    "car_model = 'Volvo'"
   ]
  },
  {
   "attachments": {},
   "cell_type": "markdown",
   "id": "annoying-mention",
   "metadata": {},
   "source": [
    "---"
   ]
  },
  {
   "attachments": {},
   "cell_type": "markdown",
   "id": "raised-intervention",
   "metadata": {},
   "source": [
    "**Q 2:**\n",
    "\n",
    "Create a variable named x and set its value to 50."
   ]
  },
  {
   "cell_type": "code",
   "execution_count": 16,
   "id": "brutal-fountain",
   "metadata": {
    "tags": []
   },
   "outputs": [],
   "source": [
    "# S 2:\n",
    "x = 50"
   ]
  },
  {
   "attachments": {},
   "cell_type": "markdown",
   "id": "focal-yorkshire",
   "metadata": {},
   "source": [
    "---"
   ]
  },
  {
   "attachments": {},
   "cell_type": "markdown",
   "id": "included-palestinian",
   "metadata": {},
   "source": [
    "**Q 3:**\n",
    "\n",
    "Create two varibles x and y. And assing them as 20 and 50 respectively.\n",
    "\n",
    "Create a variable z, and assign x + y to it.\n",
    "\n",
    "Then print z.\n",
    "\n",
    "<pre>\n",
    "x = 20\n",
    "y = 80\n",
    "\n",
    "... = x + y\n",
    "print(...)\n",
    "</pre>"
   ]
  },
  {
   "cell_type": "code",
   "execution_count": 18,
   "id": "hearing-intensity",
   "metadata": {
    "tags": []
   },
   "outputs": [
    {
     "name": "stdout",
     "output_type": "stream",
     "text": [
      "70\n"
     ]
    }
   ],
   "source": [
    "# S 3:\n",
    "x = 20\n",
    "y = 50\n",
    "z = x + y\n",
    "print(z)"
   ]
  },
  {
   "attachments": {},
   "cell_type": "markdown",
   "id": "resident-piano",
   "metadata": {},
   "source": [
    "---"
   ]
  },
  {
   "attachments": {},
   "cell_type": "markdown",
   "id": "dependent-broadcast",
   "metadata": {},
   "source": [
    "**Q 4:**\n",
    "\n",
    "Remove forbidden characters from the variable name.\n",
    "\n",
    "**2my-first_variable*β = \"Beta\"**"
   ]
  },
  {
   "cell_type": "code",
   "execution_count": 19,
   "id": "wooden-forth",
   "metadata": {
    "tags": []
   },
   "outputs": [],
   "source": [
    "# S 4:\n",
    "my_first_variable = \"Beta\""
   ]
  },
  {
   "attachments": {},
   "cell_type": "markdown",
   "id": "starting-slide",
   "metadata": {},
   "source": [
    "---"
   ]
  },
  {
   "attachments": {},
   "cell_type": "markdown",
   "id": "superior-basement",
   "metadata": {},
   "source": [
    "**Q 5:**\n",
    "\n",
    "Fill in the blanks to assign three variables at the same time.\n",
    "\n",
    "x ... y ... z = \"Python\""
   ]
  },
  {
   "cell_type": "code",
   "execution_count": 24,
   "id": "declared-annual",
   "metadata": {
    "tags": []
   },
   "outputs": [
    {
     "name": "stdout",
     "output_type": "stream",
     "text": [
      "PythonPythonPython\n"
     ]
    }
   ],
   "source": [
    "# S 5:\n",
    "x = y = z = \"\\nPython\"\n",
    "print(x + y + z)"
   ]
  }
 ],
 "metadata": {
  "kernelspec": {
   "display_name": "Python 3 (ipykernel)",
   "language": "python",
   "name": "python3"
  },
  "language_info": {
   "codemirror_mode": {
    "name": "ipython",
    "version": 3
   },
   "file_extension": ".py",
   "mimetype": "text/x-python",
   "name": "python",
   "nbconvert_exporter": "python",
   "pygments_lexer": "ipython3",
   "version": "3.8.16"
  }
 },
 "nbformat": 4,
 "nbformat_minor": 5
}

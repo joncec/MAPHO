{
 "cells": [
  {
   "cell_type": "markdown",
   "id": "electoral-recorder",
   "metadata": {},
   "source": [
    "## [10 Questions] QUIZ - First Program"
   ]
  },
  {
   "cell_type": "markdown",
   "id": "economic-observation",
   "metadata": {},
   "source": [
    "**Q 1:**\n",
    "\n",
    "How many seconds are there in 24 minutes and 36 seconds?\n",
    "\n",
    "Answer: 1476"
   ]
  },
  {
   "cell_type": "code",
   "execution_count": 4,
   "id": "separated-given",
   "metadata": {},
   "outputs": [
    {
     "data": {
      "text/plain": [
       "276"
      ]
     },
     "execution_count": 4,
     "metadata": {},
     "output_type": "execute_result"
    }
   ],
   "source": [
    "24 * 10 + 36"
   ]
  },
  {
   "cell_type": "markdown",
   "id": "victorian-ballot",
   "metadata": {},
   "source": [
    "**Q 2:** \n",
    "\n",
    "The Batmobile, having average speed of 80 km/hour will travel from Gotham to Arkham.\n",
    "We know the distance between Gotham and Arkham, which is 450 km's.\n",
    "How many minutes will it take for Batmobile to travel from Gotham to Arkham?\n",
    "\n",
    "Answer: 337.5"
   ]
  },
  {
   "cell_type": "code",
   "execution_count": 30,
   "id": "political-consultation",
   "metadata": {
    "tags": []
   },
   "outputs": [
    {
     "data": {
      "text/plain": [
       "337.5"
      ]
     },
     "execution_count": 30,
     "metadata": {},
     "output_type": "execute_result"
    }
   ],
   "source": [
    "(450 / 80) * 60"
   ]
  },
  {
   "cell_type": "markdown",
   "id": "innocent-strap",
   "metadata": {},
   "source": [
    "**Q 3:**\n",
    "\n",
    "What is 14'th power of 2?\n",
    "\n",
    "Answer: 16384"
   ]
  },
  {
   "cell_type": "code",
   "execution_count": 7,
   "id": "median-casino",
   "metadata": {
    "tags": []
   },
   "outputs": [
    {
     "data": {
      "text/plain": [
       "16384"
      ]
     },
     "execution_count": 7,
     "metadata": {},
     "output_type": "execute_result"
    }
   ],
   "source": [
    "2**14"
   ]
  },
  {
   "cell_type": "markdown",
   "id": "miniature-newark",
   "metadata": {},
   "source": [
    "**Q 4:**\n",
    "\n",
    "Can you print \"Python, I love you :)\" on the screen?\n",
    "\n",
    "Answer: Python, I love you :)"
   ]
  },
  {
   "cell_type": "code",
   "execution_count": 8,
   "id": "obvious-vanilla",
   "metadata": {
    "tags": []
   },
   "outputs": [
    {
     "name": "stdout",
     "output_type": "stream",
     "text": [
      "Python, I love you :)\n"
     ]
    }
   ],
   "source": [
    "print(\"Python, I love you :)\")"
   ]
  },
  {
   "cell_type": "markdown",
   "id": "proprietary-economy",
   "metadata": {},
   "source": [
    "**Q 5:**\n",
    "\n",
    "Can you print the type of number 15?\n",
    "\n",
    "Answer: <class 'int'>"
   ]
  },
  {
   "cell_type": "code",
   "execution_count": 33,
   "id": "sweet-emergency",
   "metadata": {
    "tags": []
   },
   "outputs": [
    {
     "name": "stdout",
     "output_type": "stream",
     "text": [
      "<class 'int'>\n"
     ]
    }
   ],
   "source": [
    "print(type(15))"
   ]
  },
  {
   "cell_type": "markdown",
   "id": "demonstrated-coach",
   "metadata": {},
   "source": [
    "**Q 6:**\n",
    "\n",
    "Can you print the type of \"Hi Python\" expression?\n",
    "\n",
    "Answer: <class 'str'>"
   ]
  },
  {
   "cell_type": "code",
   "execution_count": 32,
   "id": "digital-playing",
   "metadata": {
    "tags": []
   },
   "outputs": [
    {
     "name": "stdout",
     "output_type": "stream",
     "text": [
      "<class 'str'>\n"
     ]
    }
   ],
   "source": [
    "print(type(\"Hi Python\"))"
   ]
  },
  {
   "cell_type": "markdown",
   "id": "impaired-miracle",
   "metadata": {},
   "source": [
    "**Q 6:**\n",
    "\n",
    "Can you print the type of text \"15\"?\n",
    "\n",
    "Answer: <class 'str'>"
   ]
  },
  {
   "cell_type": "code",
   "execution_count": 31,
   "id": "constant-idaho",
   "metadata": {
    "tags": []
   },
   "outputs": [
    {
     "name": "stdout",
     "output_type": "stream",
     "text": [
      "<class 'str'>\n"
     ]
    }
   ],
   "source": [
    "print(type(\"15\"))"
   ]
  },
  {
   "cell_type": "markdown",
   "id": "silver-zimbabwe",
   "metadata": {},
   "source": [
    "**Q 7:**\n",
    "\n",
    "What is the remainder when we divide 49 by 5?\n",
    "\n",
    "Answer: 4"
   ]
  },
  {
   "cell_type": "code",
   "execution_count": 14,
   "id": "preliminary-maker",
   "metadata": {
    "tags": []
   },
   "outputs": [
    {
     "data": {
      "text/plain": [
       "4"
      ]
     },
     "execution_count": 14,
     "metadata": {},
     "output_type": "execute_result"
    }
   ],
   "source": [
    "49 % 5"
   ]
  },
  {
   "cell_type": "markdown",
   "id": "presidential-apartment",
   "metadata": {},
   "source": [
    "**Q 8:**\n",
    "\n",
    "What is the floor division (integer division) result of dividing 49 by 5?\n",
    "\n",
    "Answer: 9"
   ]
  },
  {
   "cell_type": "code",
   "execution_count": 15,
   "id": "egyptian-selection",
   "metadata": {
    "tags": []
   },
   "outputs": [
    {
     "data": {
      "text/plain": [
       "9"
      ]
     },
     "execution_count": 15,
     "metadata": {},
     "output_type": "execute_result"
    }
   ],
   "source": [
    "49 // 5"
   ]
  },
  {
   "cell_type": "markdown",
   "id": "premium-reunion",
   "metadata": {},
   "source": [
    "**Q 9:**\n",
    "\n",
    "What is the average of sum of squares of integers from 1 to 5?\n",
    "\n",
    "(average of this sum -> $1^2 + 2^2 + 3^2 + 4^2 + 5^2$)\n",
    "\n",
    "Answer: 11.0"
   ]
  },
  {
   "cell_type": "code",
   "execution_count": 25,
   "id": "behind-catholic",
   "metadata": {
    "tags": []
   },
   "outputs": [
    {
     "data": {
      "text/plain": [
       "8"
      ]
     },
     "execution_count": 25,
     "metadata": {},
     "output_type": "execute_result"
    }
   ],
   "source": [
    "1 + 2**2 + 3**2"
   ]
  },
  {
   "cell_type": "markdown",
   "id": "designed-burner",
   "metadata": {},
   "source": [
    "**Q 10:**\n",
    "\n",
    "Solve this equation with Python:\n",
    "\n",
    "$$ x^2 = 4^3 + 17 $$\n",
    "\n",
    "What is the value of x?\n",
    "\n",
    "Answer: 9.0"
   ]
  },
  {
   "cell_type": "code",
   "execution_count": 36,
   "id": "heated-suicide",
   "metadata": {
    "tags": []
   },
   "outputs": [
    {
     "data": {
      "text/plain": [
       "9.0"
      ]
     },
     "execution_count": 36,
     "metadata": {},
     "output_type": "execute_result"
    }
   ],
   "source": [
    "(4**3 + 17)**(1/2)"
   ]
  },
  {
   "cell_type": "code",
   "execution_count": null,
   "id": "lovely-recruitment",
   "metadata": {},
   "outputs": [],
   "source": []
  }
 ],
 "metadata": {
  "kernelspec": {
   "display_name": "Python 3 (ipykernel)",
   "language": "python",
   "name": "python3"
  },
  "language_info": {
   "codemirror_mode": {
    "name": "ipython",
    "version": 3
   },
   "file_extension": ".py",
   "mimetype": "text/x-python",
   "name": "python",
   "nbconvert_exporter": "python",
   "pygments_lexer": "ipython3",
   "version": "3.8.16"
  }
 },
 "nbformat": 4,
 "nbformat_minor": 5
}

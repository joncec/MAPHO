{
 "cells": [
  {
   "attachments": {},
   "cell_type": "markdown",
   "id": "beginning-server",
   "metadata": {},
   "source": [
    "## [10 Questions] QUIZ - Functions I"
   ]
  },
  {
   "attachments": {},
   "cell_type": "markdown",
   "id": "speaking-inventory",
   "metadata": {},
   "source": [
    "**Q 1:**\n",
    "\n",
    "Define a function that prints \"Hello World!\"."
   ]
  },
  {
   "cell_type": "code",
   "execution_count": 2,
   "id": "flush-ambassador",
   "metadata": {
    "tags": []
   },
   "outputs": [
    {
     "name": "stdout",
     "output_type": "stream",
     "text": [
      "Hello World!\n"
     ]
    }
   ],
   "source": [
    "# S 1:\n",
    "def first_function ():\n",
    "    print(\"Hello World!\")\n",
    "\n",
    "# call function\n",
    "first_function()"
   ]
  },
  {
   "attachments": {},
   "cell_type": "markdown",
   "id": "banned-delivery",
   "metadata": {},
   "source": [
    "---"
   ]
  },
  {
   "attachments": {},
   "cell_type": "markdown",
   "id": "metric-effect",
   "metadata": {},
   "source": [
    "**Q 2:**\n",
    "\n",
    "Define a function named **say_hello** that takes two string parameters.\n",
    "\n",
    "We will assume this parameters be two seperate names. (name_1 and name_2)\n",
    "\n",
    "Function will concatenate these names with \"and\".\n",
    "\n",
    "Then it will print as:\n",
    "\n",
    "\"Hello name_1 and name_2.\"\n",
    "\n",
    "Ex: Hello Clark Kent and Superman.\n",
    "\n",
    "Hints:\n",
    "* use string.format() function."
   ]
  },
  {
   "cell_type": "code",
   "execution_count": 4,
   "id": "figured-insurance",
   "metadata": {
    "tags": []
   },
   "outputs": [
    {
     "name": "stdout",
     "output_type": "stream",
     "text": [
      "Clark Kent and Superman\n",
      "Bruce Wayne and Batman\n",
      "Peter Parker and Spiderman\n"
     ]
    }
   ],
   "source": [
    "# S 2:\n",
    "def say_hello (name_1, name_2):\n",
    "    '''\n",
    "    This function adds 'and' to two recieved names and prints them.\n",
    "    Parameters: str name_1, name_2\n",
    "    '''\n",
    "    print (f\"{name_1} and {name_2}\")\n",
    "\n",
    "# call the function\n",
    "say_hello(\"Clark Kent\" ,\"Superman\")\n",
    "say_hello(\"Bruce Wayne\" ,\"Batman\")\n",
    "say_hello(\"Peter Parker\" ,\"Spiderman\")"
   ]
  },
  {
   "attachments": {},
   "cell_type": "markdown",
   "id": "boring-forward",
   "metadata": {},
   "source": [
    "---"
   ]
  },
  {
   "attachments": {},
   "cell_type": "markdown",
   "id": "signal-background",
   "metadata": {},
   "source": [
    "**Q 3:**\n",
    "\n",
    "Define a function that asks user to enter his/her name.\n",
    "\n",
    "This function will print as:\n",
    "\"Hi name.\"\n",
    "\n",
    "Hints:\n",
    "* to get input from user -> input()"
   ]
  },
  {
   "cell_type": "code",
   "execution_count": 6,
   "id": "motivated-beatles",
   "metadata": {
    "tags": []
   },
   "outputs": [
    {
     "name": "stdout",
     "output_type": "stream",
     "text": [
      "Enter your name: Jonas\n"
     ]
    },
    {
     "name": "stdout",
     "output_type": "stream",
     "text": [
      "Hi Jonas\n"
     ]
    }
   ],
   "source": [
    "# S 3:\n",
    "def say_my_name():\n",
    "    '''\n",
    "    This function asks for the user's name and prints it.\n",
    "    '''\n",
    "    name = input(\"Enter your name:\")\n",
    "    print (f\"Hi {name}\")\n",
    "\n",
    "    \n",
    "# function call\n",
    "say_my_name()"
   ]
  },
  {
   "attachments": {},
   "cell_type": "markdown",
   "id": "usual-plaza",
   "metadata": {},
   "source": [
    "---"
   ]
  },
  {
   "attachments": {},
   "cell_type": "markdown",
   "id": "theoretical-poland",
   "metadata": {},
   "source": [
    "**Q 4:**\n",
    "\n",
    "Define a function taking 3 parameters as integer.\n",
    "\n",
    "Function will return the maximum of these three numbers.\n",
    "\n",
    "Add a docstring for this function.\n",
    "\n",
    "Hints:\n",
    "* Python has max() built-in function"
   ]
  },
  {
   "cell_type": "code",
   "execution_count": 13,
   "id": "stylish-demographic",
   "metadata": {
    "tags": []
   },
   "outputs": [
    {
     "name": "stdout",
     "output_type": "stream",
     "text": [
      "82\n",
      "None\n",
      "Help on function get_max in module __main__:\n",
      "\n",
      "get_max(n1, n2, n3)\n",
      "    Docstring help here\n",
      "\n",
      "\n",
      "    Docstring help here\n",
      "    \n"
     ]
    }
   ],
   "source": [
    "# S 4:\n",
    "def get_max (n1, n2, n3):\n",
    "    '''\n",
    "    This function gets 3 numbers and selects the maximum.\n",
    "    Parameters: int n1, int n2, int n3\n",
    "    Returns: Value from Python's max function\n",
    "    '''\n",
    "    maximum = max(n1, n2, n3)\n",
    "    print (maximum)\n",
    "\n",
    "# call function -> get the returned value and print\n",
    "max_number = get_max(4, 82, 19)\n",
    "print(max_number)\n",
    "\n",
    "# docstring\n",
    "help(get_max)\n",
    "print(get_max.__doc__)"
   ]
  },
  {
   "attachments": {},
   "cell_type": "markdown",
   "id": "centered-liquid",
   "metadata": {},
   "source": [
    "---"
   ]
  },
  {
   "attachments": {},
   "cell_type": "markdown",
   "id": "regulation-gamma",
   "metadata": {},
   "source": [
    "**Q 5:**\n",
    "\n",
    "Define a function that takes a string parameter.\n",
    "\n",
    "Function will remove spaces at the beginning and at the end of the string,\n",
    "then it will convert the string into lower case. \n",
    "\n",
    "Hints:\n",
    " * to remove spaces: strip()\n",
    " * to convert lowercase: lower()"
   ]
  },
  {
   "cell_type": "code",
   "execution_count": 14,
   "id": "romantic-laptop",
   "metadata": {
    "tags": []
   },
   "outputs": [
    {
     "name": "stdout",
     "output_type": "stream",
     "text": [
      "python machine learning\n"
     ]
    }
   ],
   "source": [
    "# S 5:\n",
    "def strip_and_lower (text):\n",
    "    '''\n",
    "    This function recieves lower cases the text and removes sapcec in the beggining and end.\n",
    "    Parameters: str text\n",
    "    Returns: text value with Python's .strip() and .lower() functions applied\n",
    "    '''\n",
    "    processed_text = text.strip().lower()\n",
    "    return processed_text\n",
    "\n",
    "\n",
    "# function call\n",
    "txt = \"    PyThon MaCHine LeARning   \"\n",
    "final_txt = strip_and_lower(txt)\n",
    "print(final_txt)"
   ]
  },
  {
   "attachments": {},
   "cell_type": "markdown",
   "id": "useful-september",
   "metadata": {},
   "source": [
    "---"
   ]
  },
  {
   "attachments": {},
   "cell_type": "markdown",
   "id": "interested-feeling",
   "metadata": {},
   "source": [
    "**Q 6:**\n",
    "\n",
    "Define a function which takes two integer parameters.\n",
    "\n",
    "The function will return the sum of these parameters."
   ]
  },
  {
   "cell_type": "code",
   "execution_count": 16,
   "id": "numerous-warrior",
   "metadata": {
    "tags": []
   },
   "outputs": [
    {
     "name": "stdout",
     "output_type": "stream",
     "text": [
      "65\n"
     ]
    }
   ],
   "source": [
    "# S 6:\n",
    "def add (num_1, num_2):\n",
    "    '''\n",
    "    This function adds two numbers.\n",
    "    Parameters: int num_1, int num_2\n",
    "    Returns: sum of numbers\n",
    "    '''\n",
    "    result = num_1 + num_2\n",
    "    return result\n",
    "\n",
    "\n",
    "# function call\n",
    "n_1 = 45\n",
    "n_2 = 20\n",
    "addition = add(n_1, n_2)\n",
    "print(addition)\n"
   ]
  },
  {
   "attachments": {},
   "cell_type": "markdown",
   "id": "destroyed-gabriel",
   "metadata": {},
   "source": [
    "---"
   ]
  },
  {
   "attachments": {},
   "cell_type": "markdown",
   "id": "necessary-franklin",
   "metadata": {},
   "source": [
    "**Q 7:**\n",
    "\n",
    "Define a function taking 3 numeric parameters.\n",
    "\n",
    "Function will calculate the difference between each pairs.\n",
    "\n",
    "And return the minimum of these differences.\n",
    "\n",
    "Hints:\n",
    "* Use absolute value to calculate difference -> abs  (absolute value)\n",
    "* To get minimum -> min()"
   ]
  },
  {
   "cell_type": "code",
   "execution_count": null,
   "id": "demographic-australia",
   "metadata": {
    "tags": []
   },
   "outputs": [],
   "source": [
    "# S 7:\n",
    "def minimum_difference (a, b, c):\n",
    "    '''\n",
    "    This function calculates the differences of each pair of numbers\n",
    "    Parameters int a, b, c\n",
    "    Returns: the absolute value of the minimum difference\n",
    "    '''\n",
    "    # pair differences\n",
    "    dif_1 = abs(a-b)\n",
    "    dif_2 = abs(a-c)\n",
    "    dif_3 = abs(b-c)\n",
    "    \n",
    "    #return the minimum difference\n",
    "    return min (dif_1, dif_2, dif_3)\n",
    "\n",
    "# function call\n",
    "a = 8\n",
    "b = 5\n",
    "c = 10\n",
    "min_diff = minimum_difference(a, b, c)\n",
    "print(min_diff)"
   ]
  },
  {
   "attachments": {},
   "cell_type": "markdown",
   "id": "charged-thursday",
   "metadata": {},
   "source": [
    "---"
   ]
  },
  {
   "attachments": {},
   "cell_type": "markdown",
   "id": "brave-librarian",
   "metadata": {},
   "source": [
    "**Q 8:**\n",
    "\n",
    "Define a function taking an integere parameter.\n",
    "\n",
    "Function will return the square root of this parameter.\n",
    "\n",
    "Hints:\n",
    "* Square Root -> math.sqrt()"
   ]
  },
  {
   "cell_type": "code",
   "execution_count": 20,
   "id": "unknown-setting",
   "metadata": {
    "tags": []
   },
   "outputs": [
    {
     "name": "stdout",
     "output_type": "stream",
     "text": [
      "9.0\n"
     ]
    }
   ],
   "source": [
    "# S 8:\n",
    "import math\n",
    "def squre_root(num):\n",
    "    '''\n",
    "    This function calculates the square root of a number utilizing Python's math.sqrt() function.\n",
    "    Parameters: int num\n",
    "    Returns: square root of num\n",
    "    '''\n",
    "    # calculates the square root\n",
    "    sqre = math.sqrt(num)\n",
    "    \n",
    "    # return the square root\n",
    "    return sqre\n",
    "\n",
    "\n",
    "# function call\n",
    "num = 81\n",
    "sqr = squre_root(num)\n",
    "print(sqr)\n"
   ]
  },
  {
   "attachments": {},
   "cell_type": "markdown",
   "id": "sacred-smooth",
   "metadata": {},
   "source": [
    "---"
   ]
  },
  {
   "attachments": {},
   "cell_type": "markdown",
   "id": "signal-inventory",
   "metadata": {},
   "source": [
    "**Q 9:**\n",
    "\n",
    "Define a function taking a numeric parameter.\n",
    "\n",
    "Function will return the logarithm of this function.\n",
    "\n",
    "Hints:\n",
    "* logarithm -> math.log()"
   ]
  },
  {
   "cell_type": "code",
   "execution_count": 21,
   "id": "round-campbell",
   "metadata": {
    "tags": []
   },
   "outputs": [
    {
     "name": "stdout",
     "output_type": "stream",
     "text": [
      "2.4849066497880004\n"
     ]
    }
   ],
   "source": [
    "# S 9:\n",
    "import math\n",
    "def get_logarithm (num):\n",
    "    '''\n",
    "    This function calculates the logarithm of a number (num).\n",
    "    Parameters: int num\n",
    "    Returns: num's logarithm\n",
    "    '''\n",
    "    return math.log(num)\n",
    "\n",
    "\n",
    "# function call\n",
    "'''\n",
    "n = 12\n",
    "log = get_logarithm(n)\n",
    "print(log)\n",
    "'''\n",
    "\n",
    "print(get_logarithm(12))\n"
   ]
  },
  {
   "attachments": {},
   "cell_type": "markdown",
   "id": "according-reynolds",
   "metadata": {},
   "source": [
    "---"
   ]
  },
  {
   "attachments": {},
   "cell_type": "markdown",
   "id": "14ae025d-3719-45a0-81ce-768b46f0f317",
   "metadata": {},
   "source": [
    "**Q 10:**\n",
    "\n",
    "Define a function taking to numeric parameters.\n",
    "\n",
    "Let's assume these numbers are two sides of a right triangle.\n",
    "\n",
    "The function will return the hypotenuse of this triangle.\n",
    "\n",
    "Hints:\n",
    "\n",
    "$$ hipo^2 = a^2 + b^2 $$"
   ]
  },
  {
   "cell_type": "code",
   "execution_count": 22,
   "id": "timely-black",
   "metadata": {
    "tags": []
   },
   "outputs": [
    {
     "name": "stdout",
     "output_type": "stream",
     "text": [
      "5.0\n",
      "25.0\n",
      "17.0\n"
     ]
    }
   ],
   "source": [
    "# S 10:\n",
    "import math\n",
    "def hypotenuse (num_1, num_2):\n",
    "    \"\"\"\n",
    "    This function calculates the hypotenuse of two numbers.\n",
    "    \n",
    "    Args:\n",
    "       int num_1 : first number\n",
    "       int num_2 : second number\n",
    "\n",
    "    Returns:\n",
    "        int hypo : the hypotenuse of the arguments\n",
    "    \"\"\"\n",
    "    sqr_hypo = ((num_1**2) + (num_2**2))\n",
    "    hypo = math.sqrt(sqr_hypo)\n",
    "    return hypo\n",
    "\n",
    "# function call\n",
    "# 3-4-5 triangle\n",
    "print(hypotenuse(3, 4))\n",
    "  \n",
    "# 7-24-25 triangle\n",
    "print(hypotenuse(7, 24))\n",
    "\n",
    "# 8-15-17 triangle\n",
    "print(hypotenuse(8, 15))"
   ]
  },
  {
   "cell_type": "code",
   "execution_count": null,
   "id": "dimensional-kinase",
   "metadata": {},
   "outputs": [],
   "source": []
  }
 ],
 "metadata": {
  "kernelspec": {
   "display_name": "Python 3 (ipykernel)",
   "language": "python",
   "name": "python3"
  },
  "language_info": {
   "codemirror_mode": {
    "name": "ipython",
    "version": 3
   },
   "file_extension": ".py",
   "mimetype": "text/x-python",
   "name": "python",
   "nbconvert_exporter": "python",
   "pygments_lexer": "ipython3",
   "version": "3.8.16"
  }
 },
 "nbformat": 4,
 "nbformat_minor": 5
}
